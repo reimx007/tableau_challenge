{
 "cells": [
  {
   "cell_type": "code",
   "execution_count": null,
   "metadata": {},
   "outputs": [],
   "source": [
    "import pandas as pd\n"
   ]
  },
  {
   "cell_type": "markdown",
   "metadata": {},
   "source": [
    "The source data for this project came from Nice Ride's data portal: https://www.niceridemn.com/system-data\n",
    "\n",
    "The goal was to obtain two separate years worth of data, 2017 and 2019.\n",
    "\n",
    "The 2017 bike trip data was available in one csv for the entire year, but it needs to be joined to a separate station csv.\n",
    "\n",
    "The 2019 data inlcudes the bike trip and station information in a single table row. However, it is only available for one month at a time. Thus it is necessary to download all csv's for the year and then append them together. "
   ]
  },
  {
   "cell_type": "code",
   "execution_count": null,
   "metadata": {},
   "outputs": [],
   "source": [
    "# Read in Mpls bike share data from 2019 as separate dataframes\n",
    "m_df1 = pd.read_csv(\"originalcsvs/201904-niceride-tripdata.csv\")\n",
    "m_df1[\"Month\"] = \"April\"\n",
    "m_df2 = pd.read_csv(\"originalcsvs/201905-niceride-tripdata.csv\")\n",
    "m_df2[\"Month\"] = \"May\"\n",
    "m_df3 = pd.read_csv(\"originalcsvs/2001906-niceride-tripdata.csv\")\n",
    "m_df3[\"Month\"] = \"June\"\n",
    "m_df4 = pd.read_csv(\"originalcsvs/201907-niceride-tripdata.csv\")\n",
    "m_df4[\"Month\"] = \"July\"\n",
    "m_df5 = pd.read_csv(\"originalcsvs/201908-niceride-tripdata.csv\")\n",
    "m_df5[\"Month\"] = \"August\"\n",
    "m_df6 = pd.read_csv(\"originalcsvs/201909-niceride-tripdata.csv\")\n",
    "m_df6[\"Month\"] = \"September\"\n",
    "m_df7 = pd.read_csv(\"originalcsvs/201910-niceride-tripdata.csv\")\n",
    "m_df7[\"Month\"] = \"October\"\n",
    "m_df8 = pd.read_csv(\"originalcsvs/201911-niceride-tripdata.csv\")\n",
    "m_df8[\"Month\"] = \"November\""
   ]
  },
  {
   "cell_type": "code",
   "execution_count": null,
   "metadata": {},
   "outputs": [],
   "source": [
    "# append all 2019 data and export to csv\n",
    "m_df = pd.DataFrame()\n",
    "m_df = m_df1.append(m_df2).append(m_df3).append(m_df4).append(m_df5).append(m_df6).append(m_df7).append(m_df8)\n",
    "\n",
    "m_df.tail(100)"
   ]
  },
  {
   "cell_type": "code",
   "execution_count": null,
   "metadata": {},
   "outputs": [],
   "source": [
    "# export to csv\n",
    "m_df.to_csv('../data/NiceRide_2019.csv')"
   ]
  },
  {
   "cell_type": "code",
   "execution_count": null,
   "metadata": {},
   "outputs": [],
   "source": [
    "# view the 2017 data. No manipulation. Joining of bike trip data to station information can be done in Tableau.\n",
    "m2017_df = pd.read_csv(\"originalcsvs/Nice_ride_trip_history_2017_season.csv\")\n",
    "m2017_df.tail(100)"
   ]
  },
  {
   "cell_type": "code",
   "execution_count": null,
   "metadata": {},
   "outputs": [],
   "source": []
  }
 ],
 "metadata": {
  "kernelspec": {
   "display_name": "PythonData",
   "language": "python",
   "name": "pythondata"
  },
  "language_info": {
   "codemirror_mode": {
    "name": "ipython",
    "version": 3
   },
   "file_extension": ".py",
   "mimetype": "text/x-python",
   "name": "python",
   "nbconvert_exporter": "python",
   "pygments_lexer": "ipython3",
   "version": "3.7.6"
  }
 },
 "nbformat": 4,
 "nbformat_minor": 4
}
